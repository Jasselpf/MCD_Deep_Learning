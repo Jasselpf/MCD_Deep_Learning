{
  "nbformat": 4,
  "nbformat_minor": 0,
  "metadata": {
    "accelerator": "GPU",
    "colab": {
      "name": "03_DL_Optimizers.ipynb",
      "provenance": [],
      "collapsed_sections": []
    },
    "kernelspec": {
      "display_name": "Python 3",
      "language": "python",
      "name": "python3"
    },
    "language_info": {
      "codemirror_mode": {
        "name": "ipython",
        "version": 3
      },
      "file_extension": ".py",
      "mimetype": "text/x-python",
      "name": "python",
      "nbconvert_exporter": "python",
      "pygments_lexer": "ipython3",
      "version": "3.7.3"
    }
  },
  "cells": [
    {
      "cell_type": "code",
      "metadata": {
        "colab_type": "code",
        "id": "auaqKUAuFRwJ",
        "colab": {}
      },
      "source": [
        "import numpy as np\n",
        "import pandas as pd\n",
        "import matplotlib.pyplot as plt"
      ],
      "execution_count": 0,
      "outputs": []
    },
    {
      "cell_type": "code",
      "metadata": {
        "colab_type": "code",
        "id": "R7BOD99kHvAZ",
        "colab": {}
      },
      "source": [
        "# Usaremos la base de datos: Beijing Multi-Site Air-Quality Data Data Set,\n",
        "# la cual puede ser obtenida desde https://archive.ics.uci.edu/ml/datasets/Beijing+Multi-Site+Air-Quality+Data\n",
        "# (revisar la página para más detalles sobre los datos)\n",
        "# Se ha proporcionado un archivo csv con la información obtenida de la estación\n",
        "# de monitoreo Aotizhongxin, el cual contiene 35,064 registros.\n",
        "\n",
        "# El objetivo es poder predecir la concetración de PM2.5 y de NO2 a partir de las\n",
        "# variables año, mes, día, hora, temperatura, presión, punto de rocío, \n",
        "# precipitación y velocidad del viento."
      ],
      "execution_count": 0,
      "outputs": []
    },
    {
      "cell_type": "markdown",
      "metadata": {
        "colab_type": "text",
        "id": "oN6aBWNOWrY7"
      },
      "source": [
        "# Part 1: Load data into Colab"
      ]
    },
    {
      "cell_type": "code",
      "metadata": {
        "colab_type": "code",
        "id": "kB4uTQwSFkVr",
        "outputId": "1d4e4a19-8f7e-4e43-879c-eb3a01912c67",
        "colab": {
          "resources": {
            "http://localhost:8080/nbextensions/google.colab/files.js": {
              "data": "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",
              "ok": true,
              "headers": [
                [
                  "content-type",
                  "application/javascript"
                ]
              ],
              "status": 200,
              "status_text": ""
            }
          },
          "base_uri": "https://localhost:8080/",
          "height": 74
        }
      },
      "source": [
        "# Requiered to select a file to be imported\n",
        " from google.colab import files\n",
        "uploaded = files.upload()"
      ],
      "execution_count": 3,
      "outputs": [
        {
          "output_type": "display_data",
          "data": {
            "text/html": [
              "\n",
              "     <input type=\"file\" id=\"files-1c39fa9b-688b-4061-8ede-cd60ccbbb0e5\" name=\"files[]\" multiple disabled />\n",
              "     <output id=\"result-1c39fa9b-688b-4061-8ede-cd60ccbbb0e5\">\n",
              "      Upload widget is only available when the cell has been executed in the\n",
              "      current browser session. Please rerun this cell to enable.\n",
              "      </output>\n",
              "      <script src=\"/nbextensions/google.colab/files.js\"></script> "
            ],
            "text/plain": [
              "<IPython.core.display.HTML object>"
            ]
          },
          "metadata": {
            "tags": []
          }
        },
        {
          "output_type": "stream",
          "text": [
            "Saving PRSA_Aotizhongxin.csv to PRSA_Aotizhongxin (1).csv\n"
          ],
          "name": "stdout"
        }
      ]
    },
    {
      "cell_type": "code",
      "metadata": {
        "colab_type": "code",
        "id": "JwhYkkpoGG8y",
        "outputId": "ce1a2e8f-72b7-4a4d-80d5-f4f2114e3eb4",
        "colab": {
          "base_uri": "https://localhost:8080/",
          "height": 419
        }
      },
      "source": [
        "# Import file and store it in a data frame\n",
        "import io\n",
        "df = pd.read_csv(io.BytesIO(uploaded['PRSA_Aotizhongxin.csv'])) # Cambia al nombre del archivo que cargues\n",
        "df.dropna(inplace=True)\n",
        "df\n",
        "# Quedan 31,815 registros despues de eliminar NaN's"
      ],
      "execution_count": 4,
      "outputs": [
        {
          "output_type": "execute_result",
          "data": {
            "text/html": [
              "<div>\n",
              "<style scoped>\n",
              "    .dataframe tbody tr th:only-of-type {\n",
              "        vertical-align: middle;\n",
              "    }\n",
              "\n",
              "    .dataframe tbody tr th {\n",
              "        vertical-align: top;\n",
              "    }\n",
              "\n",
              "    .dataframe thead th {\n",
              "        text-align: right;\n",
              "    }\n",
              "</style>\n",
              "<table border=\"1\" class=\"dataframe\">\n",
              "  <thead>\n",
              "    <tr style=\"text-align: right;\">\n",
              "      <th></th>\n",
              "      <th>No</th>\n",
              "      <th>year</th>\n",
              "      <th>month</th>\n",
              "      <th>day</th>\n",
              "      <th>hour</th>\n",
              "      <th>PM2.5</th>\n",
              "      <th>PM10</th>\n",
              "      <th>SO2</th>\n",
              "      <th>NO2</th>\n",
              "      <th>CO</th>\n",
              "      <th>O3</th>\n",
              "      <th>TEMP</th>\n",
              "      <th>PRES</th>\n",
              "      <th>DEWP</th>\n",
              "      <th>RAIN</th>\n",
              "      <th>wd</th>\n",
              "      <th>WSPM</th>\n",
              "      <th>station</th>\n",
              "    </tr>\n",
              "  </thead>\n",
              "  <tbody>\n",
              "    <tr>\n",
              "      <th>0</th>\n",
              "      <td>1</td>\n",
              "      <td>2013</td>\n",
              "      <td>3</td>\n",
              "      <td>1</td>\n",
              "      <td>0</td>\n",
              "      <td>4.0</td>\n",
              "      <td>4.0</td>\n",
              "      <td>4.0</td>\n",
              "      <td>7.0</td>\n",
              "      <td>300.0</td>\n",
              "      <td>77.0</td>\n",
              "      <td>-0.7</td>\n",
              "      <td>1023.0</td>\n",
              "      <td>-18.8</td>\n",
              "      <td>0.0</td>\n",
              "      <td>NNW</td>\n",
              "      <td>4.4</td>\n",
              "      <td>Aotizhongxin</td>\n",
              "    </tr>\n",
              "    <tr>\n",
              "      <th>1</th>\n",
              "      <td>2</td>\n",
              "      <td>2013</td>\n",
              "      <td>3</td>\n",
              "      <td>1</td>\n",
              "      <td>1</td>\n",
              "      <td>8.0</td>\n",
              "      <td>8.0</td>\n",
              "      <td>4.0</td>\n",
              "      <td>7.0</td>\n",
              "      <td>300.0</td>\n",
              "      <td>77.0</td>\n",
              "      <td>-1.1</td>\n",
              "      <td>1023.2</td>\n",
              "      <td>-18.2</td>\n",
              "      <td>0.0</td>\n",
              "      <td>N</td>\n",
              "      <td>4.7</td>\n",
              "      <td>Aotizhongxin</td>\n",
              "    </tr>\n",
              "    <tr>\n",
              "      <th>2</th>\n",
              "      <td>3</td>\n",
              "      <td>2013</td>\n",
              "      <td>3</td>\n",
              "      <td>1</td>\n",
              "      <td>2</td>\n",
              "      <td>7.0</td>\n",
              "      <td>7.0</td>\n",
              "      <td>5.0</td>\n",
              "      <td>10.0</td>\n",
              "      <td>300.0</td>\n",
              "      <td>73.0</td>\n",
              "      <td>-1.1</td>\n",
              "      <td>1023.5</td>\n",
              "      <td>-18.2</td>\n",
              "      <td>0.0</td>\n",
              "      <td>NNW</td>\n",
              "      <td>5.6</td>\n",
              "      <td>Aotizhongxin</td>\n",
              "    </tr>\n",
              "    <tr>\n",
              "      <th>3</th>\n",
              "      <td>4</td>\n",
              "      <td>2013</td>\n",
              "      <td>3</td>\n",
              "      <td>1</td>\n",
              "      <td>3</td>\n",
              "      <td>6.0</td>\n",
              "      <td>6.0</td>\n",
              "      <td>11.0</td>\n",
              "      <td>11.0</td>\n",
              "      <td>300.0</td>\n",
              "      <td>72.0</td>\n",
              "      <td>-1.4</td>\n",
              "      <td>1024.5</td>\n",
              "      <td>-19.4</td>\n",
              "      <td>0.0</td>\n",
              "      <td>NW</td>\n",
              "      <td>3.1</td>\n",
              "      <td>Aotizhongxin</td>\n",
              "    </tr>\n",
              "    <tr>\n",
              "      <th>4</th>\n",
              "      <td>5</td>\n",
              "      <td>2013</td>\n",
              "      <td>3</td>\n",
              "      <td>1</td>\n",
              "      <td>4</td>\n",
              "      <td>3.0</td>\n",
              "      <td>3.0</td>\n",
              "      <td>12.0</td>\n",
              "      <td>12.0</td>\n",
              "      <td>300.0</td>\n",
              "      <td>72.0</td>\n",
              "      <td>-2.0</td>\n",
              "      <td>1025.2</td>\n",
              "      <td>-19.5</td>\n",
              "      <td>0.0</td>\n",
              "      <td>N</td>\n",
              "      <td>2.0</td>\n",
              "      <td>Aotizhongxin</td>\n",
              "    </tr>\n",
              "    <tr>\n",
              "      <th>...</th>\n",
              "      <td>...</td>\n",
              "      <td>...</td>\n",
              "      <td>...</td>\n",
              "      <td>...</td>\n",
              "      <td>...</td>\n",
              "      <td>...</td>\n",
              "      <td>...</td>\n",
              "      <td>...</td>\n",
              "      <td>...</td>\n",
              "      <td>...</td>\n",
              "      <td>...</td>\n",
              "      <td>...</td>\n",
              "      <td>...</td>\n",
              "      <td>...</td>\n",
              "      <td>...</td>\n",
              "      <td>...</td>\n",
              "      <td>...</td>\n",
              "      <td>...</td>\n",
              "    </tr>\n",
              "    <tr>\n",
              "      <th>35059</th>\n",
              "      <td>35060</td>\n",
              "      <td>2017</td>\n",
              "      <td>2</td>\n",
              "      <td>28</td>\n",
              "      <td>19</td>\n",
              "      <td>12.0</td>\n",
              "      <td>29.0</td>\n",
              "      <td>5.0</td>\n",
              "      <td>35.0</td>\n",
              "      <td>400.0</td>\n",
              "      <td>95.0</td>\n",
              "      <td>12.5</td>\n",
              "      <td>1013.5</td>\n",
              "      <td>-16.2</td>\n",
              "      <td>0.0</td>\n",
              "      <td>NW</td>\n",
              "      <td>2.4</td>\n",
              "      <td>Aotizhongxin</td>\n",
              "    </tr>\n",
              "    <tr>\n",
              "      <th>35060</th>\n",
              "      <td>35061</td>\n",
              "      <td>2017</td>\n",
              "      <td>2</td>\n",
              "      <td>28</td>\n",
              "      <td>20</td>\n",
              "      <td>13.0</td>\n",
              "      <td>37.0</td>\n",
              "      <td>7.0</td>\n",
              "      <td>45.0</td>\n",
              "      <td>500.0</td>\n",
              "      <td>81.0</td>\n",
              "      <td>11.6</td>\n",
              "      <td>1013.6</td>\n",
              "      <td>-15.1</td>\n",
              "      <td>0.0</td>\n",
              "      <td>WNW</td>\n",
              "      <td>0.9</td>\n",
              "      <td>Aotizhongxin</td>\n",
              "    </tr>\n",
              "    <tr>\n",
              "      <th>35061</th>\n",
              "      <td>35062</td>\n",
              "      <td>2017</td>\n",
              "      <td>2</td>\n",
              "      <td>28</td>\n",
              "      <td>21</td>\n",
              "      <td>16.0</td>\n",
              "      <td>37.0</td>\n",
              "      <td>10.0</td>\n",
              "      <td>66.0</td>\n",
              "      <td>700.0</td>\n",
              "      <td>58.0</td>\n",
              "      <td>10.8</td>\n",
              "      <td>1014.2</td>\n",
              "      <td>-13.3</td>\n",
              "      <td>0.0</td>\n",
              "      <td>NW</td>\n",
              "      <td>1.1</td>\n",
              "      <td>Aotizhongxin</td>\n",
              "    </tr>\n",
              "    <tr>\n",
              "      <th>35062</th>\n",
              "      <td>35063</td>\n",
              "      <td>2017</td>\n",
              "      <td>2</td>\n",
              "      <td>28</td>\n",
              "      <td>22</td>\n",
              "      <td>21.0</td>\n",
              "      <td>44.0</td>\n",
              "      <td>12.0</td>\n",
              "      <td>87.0</td>\n",
              "      <td>700.0</td>\n",
              "      <td>35.0</td>\n",
              "      <td>10.5</td>\n",
              "      <td>1014.4</td>\n",
              "      <td>-12.9</td>\n",
              "      <td>0.0</td>\n",
              "      <td>NNW</td>\n",
              "      <td>1.2</td>\n",
              "      <td>Aotizhongxin</td>\n",
              "    </tr>\n",
              "    <tr>\n",
              "      <th>35063</th>\n",
              "      <td>35064</td>\n",
              "      <td>2017</td>\n",
              "      <td>2</td>\n",
              "      <td>28</td>\n",
              "      <td>23</td>\n",
              "      <td>19.0</td>\n",
              "      <td>31.0</td>\n",
              "      <td>10.0</td>\n",
              "      <td>79.0</td>\n",
              "      <td>600.0</td>\n",
              "      <td>42.0</td>\n",
              "      <td>8.6</td>\n",
              "      <td>1014.1</td>\n",
              "      <td>-15.9</td>\n",
              "      <td>0.0</td>\n",
              "      <td>NNE</td>\n",
              "      <td>1.3</td>\n",
              "      <td>Aotizhongxin</td>\n",
              "    </tr>\n",
              "  </tbody>\n",
              "</table>\n",
              "<p>31815 rows × 18 columns</p>\n",
              "</div>"
            ],
            "text/plain": [
              "          No  year  month  day  hour  ...  DEWP  RAIN   wd  WSPM       station\n",
              "0          1  2013      3    1     0  ... -18.8   0.0  NNW   4.4  Aotizhongxin\n",
              "1          2  2013      3    1     1  ... -18.2   0.0    N   4.7  Aotizhongxin\n",
              "2          3  2013      3    1     2  ... -18.2   0.0  NNW   5.6  Aotizhongxin\n",
              "3          4  2013      3    1     3  ... -19.4   0.0   NW   3.1  Aotizhongxin\n",
              "4          5  2013      3    1     4  ... -19.5   0.0    N   2.0  Aotizhongxin\n",
              "...      ...   ...    ...  ...   ...  ...   ...   ...  ...   ...           ...\n",
              "35059  35060  2017      2   28    19  ... -16.2   0.0   NW   2.4  Aotizhongxin\n",
              "35060  35061  2017      2   28    20  ... -15.1   0.0  WNW   0.9  Aotizhongxin\n",
              "35061  35062  2017      2   28    21  ... -13.3   0.0   NW   1.1  Aotizhongxin\n",
              "35062  35063  2017      2   28    22  ... -12.9   0.0  NNW   1.2  Aotizhongxin\n",
              "35063  35064  2017      2   28    23  ... -15.9   0.0  NNE   1.3  Aotizhongxin\n",
              "\n",
              "[31815 rows x 18 columns]"
            ]
          },
          "metadata": {
            "tags": []
          },
          "execution_count": 4
        }
      ]
    },
    {
      "cell_type": "markdown",
      "metadata": {
        "colab_type": "text",
        "id": "7AnH6VY-W09n"
      },
      "source": [
        "# Part 2: Format data and split it into numpy arrays"
      ]
    },
    {
      "cell_type": "code",
      "metadata": {
        "colab_type": "code",
        "id": "OaRBLIHNdrSN",
        "colab": {}
      },
      "source": [
        "# AUX function to put categorical data into one-hot encoding format\n",
        "from sklearn.preprocessing import OneHotEncoder\n",
        "def winddir_to_categorical(winddir):\n",
        "  enc = OneHotEncoder(sparse=False)\n",
        "  WD = enc.fit_transform(winddir)\n",
        "  print(\"== categories:\", enc.categories_, \"==\")\n",
        "  return WD"
      ],
      "execution_count": 0,
      "outputs": []
    },
    {
      "cell_type": "code",
      "metadata": {
        "colab_type": "code",
        "id": "dFhZ5cEGSk2e",
        "outputId": "c2849971-b241-443f-b7f9-4e55acccdc77",
        "colab": {
          "base_uri": "https://localhost:8080/",
          "height": 673
        }
      },
      "source": [
        "# Extract input features and convert them to a numpy array\n",
        "X = df[['year', 'month', 'day', 'hour', 'TEMP', 'PRES', 'DEWP', 'RAIN', 'WSPM' ]].to_numpy()\n",
        "WD = winddir_to_categorical(df[['wd']])\n",
        "X = np.concatenate((X, WD), axis=1)\n",
        "\n",
        "print(f\"Input values X with shape {X.shape}. With values\")\n",
        "\n",
        "\n",
        "print(f\" min = {X.min(axis=0)}\")\n",
        "print(f\" mean = {X.mean(axis=0)}\")\n",
        "print(f\" stdd = {X.std(axis=0)}\")\n",
        "print(f\" max = {X.max(axis=0)}\")\n",
        "\n",
        "plt.boxplot(X)\n",
        "plt.show()"
      ],
      "execution_count": 6,
      "outputs": [
        {
          "output_type": "stream",
          "text": [
            "== categories: [array(['E', 'ENE', 'ESE', 'N', 'NE', 'NNE', 'NNW', 'NW', 'S', 'SE', 'SSE',\n",
            "       'SSW', 'SW', 'W', 'WNW', 'WSW'], dtype=object)] ==\n",
            "Input values X with shape (31815, 25). With values\n",
            " min = [ 2.013e+03  1.000e+00  1.000e+00  0.000e+00 -1.680e+01  9.859e+02\n",
            " -3.530e+01  0.000e+00  0.000e+00  0.000e+00  0.000e+00  0.000e+00\n",
            "  0.000e+00  0.000e+00  0.000e+00  0.000e+00  0.000e+00  0.000e+00\n",
            "  0.000e+00  0.000e+00  0.000e+00  0.000e+00  0.000e+00  0.000e+00\n",
            "  0.000e+00]\n",
            " mean = [2.01471491e+03 6.40188590e+00 1.55785636e+01 1.16247996e+01\n",
            " 1.37756108e+01 1.01180038e+03 3.24110640e+00 6.82351092e-02\n",
            " 1.72047148e+00 7.51532296e-02 1.12619833e-01 5.05421971e-02\n",
            " 5.86830112e-02 1.43988685e-01 6.99984284e-02 4.45073079e-02\n",
            " 5.37482320e-02 3.81581015e-02 3.91010530e-02 2.96715386e-02\n",
            " 6.03488920e-02 9.57724344e-02 3.36005029e-02 3.14002829e-02\n",
            " 6.27062706e-02]\n",
            " stdd = [ 1.16251735  3.41679338  8.79481542  6.92676545 11.36885668 10.33870697\n",
            " 13.66764783  0.83747595  1.20422141  0.26363843  0.31612752  0.21906091\n",
            "  0.23503046  0.35107826  0.25514437  0.20621932  0.2255202   0.19157782\n",
            "  0.1938354   0.16967952  0.23813211  0.29427891  0.18019853  0.17439698\n",
            "  0.2424339 ]\n",
            " max = [2.017e+03 1.200e+01 3.100e+01 2.300e+01 4.050e+01 1.042e+03 2.850e+01\n",
            " 4.640e+01 1.120e+01 1.000e+00 1.000e+00 1.000e+00 1.000e+00 1.000e+00\n",
            " 1.000e+00 1.000e+00 1.000e+00 1.000e+00 1.000e+00 1.000e+00 1.000e+00\n",
            " 1.000e+00 1.000e+00 1.000e+00 1.000e+00]\n"
          ],
          "name": "stdout"
        },
        {
          "output_type": "display_data",
          "data": {
            "image/png": "[encoded data removed]",
            "text/plain": [
              "<Figure size 432x288 with 1 Axes>"
            ]
          },
          "metadata": {
            "tags": []
          }
        }
      ]
    },
    {
      "cell_type": "code",
      "metadata": {
        "colab_type": "code",
        "id": "MwImDcVGg5O7",
        "outputId": "1e4fe957-4905-4162-c3db-0dca78d7f3d9",
        "colab": {
          "base_uri": "https://localhost:8080/",
          "height": 707
        }
      },
      "source": [
        "# Normalize (zero-center) and standardize (scale) input data\n",
        "from sklearn.preprocessing import StandardScaler\n",
        "scalerX = StandardScaler()\n",
        "X = scalerX.fit_transform(X)\n",
        "print(scalerX.mean_)\n",
        "\n",
        "print(f\" min = {X.min(axis=0)}\")\n",
        "print(f\" mean = {X.mean(axis=0)}\")\n",
        "print(f\" stdd = {X.std(axis=0)}\")\n",
        "print(f\" max = {X.max(axis=0)}\")\n",
        "\n",
        "plt.boxplot(X)\n",
        "plt.show()"
      ],
      "execution_count": 7,
      "outputs": [
        {
          "output_type": "stream",
          "text": [
            "[2.01471491e+03 6.40188590e+00 1.55785636e+01 1.16247996e+01\n",
            " 1.37756108e+01 1.01180038e+03 3.24110640e+00 6.82351092e-02\n",
            " 1.72047148e+00 7.51532296e-02 1.12619833e-01 5.05421971e-02\n",
            " 5.86830112e-02 1.43988685e-01 6.99984284e-02 4.45073079e-02\n",
            " 5.37482320e-02 3.81581015e-02 3.91010530e-02 2.96715386e-02\n",
            " 6.03488920e-02 9.57724344e-02 3.36005029e-02 3.14002829e-02\n",
            " 6.27062706e-02]\n",
            " min = [-1.47517312 -1.58098114 -1.65763156 -1.67824358 -2.68941826 -2.50518608\n",
            " -2.81987851 -0.0814771  -1.42870029 -0.28506174 -0.35624812 -0.23072212\n",
            " -0.24968258 -0.41013273 -0.27434832 -0.21582511 -0.23833001 -0.19917808\n",
            " -0.20172298 -0.17486812 -0.2534261  -0.32544784 -0.1864638  -0.18005062\n",
            " -0.25865307]\n",
            " mean = [ 2.53620974e-13 -5.20961380e-15 -1.40856471e-15 -1.27022216e-17\n",
            " -1.02426039e-14 -1.09446446e-12 -5.83953233e-16  2.22055074e-15\n",
            "  1.58522417e-14  1.72582712e-14 -4.05981498e-15  1.36230193e-14\n",
            "  1.06470074e-14 -1.71220957e-14 -1.80721207e-14  1.59185533e-15\n",
            " -1.52863037e-14 -9.66857167e-16 -1.04650289e-14 -9.16496697e-17\n",
            "  7.44947610e-15 -1.07559691e-14 -7.01441105e-15 -7.47533943e-15\n",
            " -1.16311731e-14]\n",
            " stdd = [1. 1. 1. 1. 1. 1. 1. 1. 1. 1. 1. 1. 1. 1. 1. 1. 1. 1. 1. 1. 1. 1. 1. 1.\n",
            " 1.]\n",
            " max = [ 1.96563574  1.63841165  1.75346903  1.64220955  2.35066639  2.92102439\n",
            "  1.84807905 55.32309879  7.87191495  3.50801198  2.80703236  4.33421824\n",
            "  4.00508514  2.43823505  3.64500138  4.63338109  4.19586262  5.02063288\n",
            "  4.9572935   5.71859515  3.94592353  3.07268902  5.36297113  5.55399377\n",
            "  3.86618267]\n"
          ],
          "name": "stdout"
        },
        {
          "output_type": "display_data",
          "data": {
            "image/png": "[encoded data removed]",
            "text/plain": [
              "<Figure size 432x288 with 1 Axes>"
            ]
          },
          "metadata": {
            "tags": []
          }
        }
      ]
    },
    {
      "cell_type": "code",
      "metadata": {
        "colab_type": "code",
        "id": "dA2VIaEEHGwA",
        "outputId": "0d5765e0-e4b5-4978-990f-fd2a23348946",
        "colab": {
          "base_uri": "https://localhost:8080/",
          "height": 350
        }
      },
      "source": [
        "# Extract output features and convert them to a numpy array\n",
        "Y = df[['PM2.5', 'NO2']].to_numpy()\n",
        "\n",
        "print(f\"Target values Y with shape {Y.shape}. With values\")\n",
        "print(f\" min = {Y.min(axis=0)}\")\n",
        "print(f\" mean = {Y.mean(axis=0)}\")\n",
        "print(f\" stdd = {Y.std(axis=0)}\")\n",
        "print(f\" max = {Y.max(axis=0)}\")\n",
        "\n",
        "plt.boxplot(Y)\n",
        "plt.show()"
      ],
      "execution_count": 8,
      "outputs": [
        {
          "output_type": "stream",
          "text": [
            "Target values Y with shape (31815, 2). With values\n",
            " min = [3. 2.]\n",
            " mean = [81.86363036 58.97633192]\n",
            " stdd = [80.44822547 37.06080184]\n",
            " max = [713. 290.]\n"
          ],
          "name": "stdout"
        },
        {
          "output_type": "display_data",
          "data": {
            "image/png": "[encoded data removed]",
            "text/plain": [
              "<Figure size 432x288 with 1 Axes>"
            ]
          },
          "metadata": {
            "tags": []
          }
        }
      ]
    },
    {
      "cell_type": "code",
      "metadata": {
        "colab_type": "code",
        "id": "d4nkvcV3MmC9",
        "outputId": "88c3d007-e0d1-4e34-8709-5c2112f82fe2",
        "colab": {
          "base_uri": "https://localhost:8080/",
          "height": 350
        }
      },
      "source": [
        "# Normalize (zero-center) and standardize (scale) output data\n",
        "scalerY = StandardScaler()\n",
        "Y = scalerY.fit_transform(Y)\n",
        "print(scalerY.mean_)\n",
        "\n",
        "print(f\" min = {Y.min(axis=0)}\")\n",
        "print(f\" mean = {Y.mean(axis=0)}\")\n",
        "print(f\" stdd = {Y.std(axis=0)}\")\n",
        "print(f\" max = {Y.max(axis=0)}\")\n",
        "\n",
        "plt.boxplot(Y)\n",
        "plt.show()"
      ],
      "execution_count": 9,
      "outputs": [
        {
          "output_type": "stream",
          "text": [
            "[81.86363036 58.97633192]\n",
            " min = [-0.98030292 -1.53737451]\n",
            " mean = [-3.21603501e-17  1.42934889e-17]\n",
            " stdd = [1. 1.]\n",
            " max = [7.84524911 6.23363923]\n"
          ],
          "name": "stdout"
        },
        {
          "output_type": "display_data",
          "data": {
            "image/png": "[encoded data removed]",
            "text/plain": [
              "<Figure size 432x288 with 1 Axes>"
            ]
          },
          "metadata": {
            "tags": []
          }
        }
      ]
    },
    {
      "cell_type": "code",
      "metadata": {
        "colab_type": "code",
        "id": "zAKGr2d4W_OU",
        "outputId": "bdce37bb-fb20-4009-df31-48d8881495e8",
        "colab": {
          "base_uri": "https://localhost:8080/",
          "height": 85
        }
      },
      "source": [
        "# Split data into train+val and test sets\n",
        "from sklearn.model_selection import train_test_split\n",
        "x_train, x_test, y_train, y_test = train_test_split(X, Y, test_size=0.05)\n",
        "\n",
        "print(x_train.shape)\n",
        "print(y_train.shape)\n",
        "print(x_test.shape)\n",
        "print(y_test.shape)"
      ],
      "execution_count": 10,
      "outputs": [
        {
          "output_type": "stream",
          "text": [
            "(30224, 25)\n",
            "(30224, 2)\n",
            "(1591, 25)\n",
            "(1591, 2)\n"
          ],
          "name": "stdout"
        }
      ]
    },
    {
      "cell_type": "code",
      "metadata": {
        "colab_type": "code",
        "id": "7dQRDsU4znyI",
        "outputId": "d8c76bd1-f20d-43bf-8b40-30f53ea24de1",
        "colab": {
          "base_uri": "https://localhost:8080/",
          "height": 295
        }
      },
      "source": [
        "# Plot y_test\n",
        "# Esta gráfica es para ver sólo si los sets de entrenamiento y test cubren las mismas\n",
        "# áreas (¿tienen la misma distribución?). No se espera que los puntos coincidan ya que\n",
        "# son dos sets distintos.\n",
        "plt.scatter(y_train[:, 0], y_train[:, 1], c='r', s=2, label='y_train')\n",
        "plt.scatter(y_test[:, 0], y_test[:, 1], c='b', s=2, label='y_test')\n",
        "\n",
        "plt.legend()\n",
        "plt.grid(True)\n",
        "plt.xlabel('PM2.5')\n",
        "plt.ylabel('NO2')\n",
        "plt.title('Outputs')\n",
        "plt.show()"
      ],
      "execution_count": 11,
      "outputs": [
        {
          "output_type": "display_data",
          "data": {
            "image/png": "[encoded data removed]",
            "text/plain": [
              "<Figure size 432x288 with 1 Axes>"
            ]
          },
          "metadata": {
            "tags": []
          }
        }
      ]
    },
    {
      "cell_type": "markdown",
      "metadata": {
        "colab_type": "text",
        "id": "dreChfyNYqsB"
      },
      "source": [
        "# Part 3: Create DNN model and train it"
      ]
    },
    {
      "cell_type": "code",
      "metadata": {
        "colab_type": "code",
        "id": "JO90QIV_HZyX",
        "colab": {
          "base_uri": "https://localhost:8080/",
          "height": 63
        },
        "outputId": "751f9aa2-1649-48f2-afe2-fb0fdd8004d8"
      },
      "source": [
        "# tensorflow imports\n",
        "import tensorflow as tf\n",
        "import time\n",
        "from tensorflow.keras.models import Sequential\n",
        "from tensorflow.keras.layers import Input, Dense"
      ],
      "execution_count": 12,
      "outputs": [
        {
          "output_type": "display_data",
          "data": {
            "text/html": [
              "<p style=\"color: red;\">\n",
              "The default version of TensorFlow in Colab will soon switch to TensorFlow 2.x.<br>\n",
              "We recommend you <a href=\"https://www.tensorflow.org/guide/migrate\" target=\"_blank\">upgrade</a> now \n",
              "or ensure your notebook will continue to use TensorFlow 1.x via the <code>%tensorflow_version 1.x</code> magic:\n",
              "<a href=\"https://colab.research.google.com/notebooks/tensorflow_version.ipynb\" target=\"_blank\">more info</a>.</p>\n"
            ],
            "text/plain": [
              "<IPython.core.display.HTML object>"
            ]
          },
          "metadata": {
            "tags": []
          }
        }
      ]
    },
    {
      "cell_type": "code",
      "metadata": {
        "colab_type": "code",
        "id": "ENX7lCg3Ido4",
        "outputId": "bd7d5e00-9398-4d4b-87d2-9df971998629",
        "colab": {
          "base_uri": "https://localhost:8080/",
          "height": 462
        }
      },
      "source": [
        "# Create a Deep Network\n",
        "DNN = Sequential()\n",
        "DNN.add(Input(shape=X.shape[1:], name='INPUT'))\n",
        "\n",
        "DNN.add(Dense(units=16, activation='elu'))\n",
        "DNN.add(Dense(units=32, activation='elu'))\n",
        "DNN.add(Dense(units=64, activation='elu'))\n",
        "DNN.add(Dense(units=64, activation='elu'))\n",
        "DNN.add(Dense(units=32, activation='elu'))\n",
        "DNN.add(Dense(units=18, activation='elu'))\n",
        "\n",
        "DNN.add(Dense(units=Y.shape[1], name='OUTPUT'))\n",
        "\n",
        "DNN.summary()"
      ],
      "execution_count": 13,
      "outputs": [
        {
          "output_type": "stream",
          "text": [
            "WARNING:tensorflow:From /usr/local/lib/python3.6/dist-packages/tensorflow_core/python/ops/resource_variable_ops.py:1630: calling BaseResourceVariable.__init__ (from tensorflow.python.ops.resource_variable_ops) with constraint is deprecated and will be removed in a future version.\n",
            "Instructions for updating:\n",
            "If using Keras pass *_constraint arguments to layers.\n",
            "Model: \"sequential\"\n",
            "_________________________________________________________________\n",
            "Layer (type)                 Output Shape              Param #   \n",
            "=================================================================\n",
            "dense (Dense)                (None, 16)                416       \n",
            "_________________________________________________________________\n",
            "dense_1 (Dense)              (None, 32)                544       \n",
            "_________________________________________________________________\n",
            "dense_2 (Dense)              (None, 64)                2112      \n",
            "_________________________________________________________________\n",
            "dense_3 (Dense)              (None, 64)                4160      \n",
            "_________________________________________________________________\n",
            "dense_4 (Dense)              (None, 32)                2080      \n",
            "_________________________________________________________________\n",
            "dense_5 (Dense)              (None, 18)                594       \n",
            "_________________________________________________________________\n",
            "OUTPUT (Dense)               (None, 2)                 38        \n",
            "=================================================================\n",
            "Total params: 9,944\n",
            "Trainable params: 9,944\n",
            "Non-trainable params: 0\n",
            "_________________________________________________________________\n"
          ],
          "name": "stdout"
        }
      ]
    },
    {
      "cell_type": "code",
      "metadata": {
        "colab_type": "code",
        "id": "Y8TlQWPOVfxw",
        "colab": {}
      },
      "source": [
        "# Define training parameters\n",
        "DNN.compile(optimizer='adam', loss='mae')"
      ],
      "execution_count": 0,
      "outputs": []
    },
    {
      "cell_type": "code",
      "metadata": {
        "colab_type": "code",
        "id": "cXaSP7HIVhTK",
        "outputId": "4f249a7a-ec1e-4cbb-c417-d18c21d367c6",
        "colab": {
          "base_uri": "https://localhost:8080/",
          "height": 1000
        }
      },
      "source": [
        "# Train model\n",
        "start_time = time.time()\n",
        "history = DNN.fit(x=x_train, y=y_train, batch_size=64, epochs=200, verbose=1, validation_split=0.1, shuffle=True)\n",
        "print(\"--- %s seconds ---\" % (time.time() - start_time))"
      ],
      "execution_count": 15,
      "outputs": [
        {
          "output_type": "stream",
          "text": [
            "Train on 27201 samples, validate on 3023 samples\n",
            "Epoch 1/200\n",
            "27201/27201 [==============================] - 2s 84us/sample - loss: 0.5939 - val_loss: 0.5520\n",
            "Epoch 2/200\n",
            "27201/27201 [==============================] - 1s 39us/sample - loss: 0.5479 - val_loss: 0.5274\n",
            "Epoch 3/200\n",
            "27201/27201 [==============================] - 1s 39us/sample - loss: 0.5311 - val_loss: 0.5170\n",
            "Epoch 4/200\n",
            "27201/27201 [==============================] - 1s 39us/sample - loss: 0.5225 - val_loss: 0.5044\n",
            "Epoch 5/200\n",
            "27201/27201 [==============================] - 1s 40us/sample - loss: 0.5156 - val_loss: 0.5035\n",
            "Epoch 6/200\n",
            "27201/27201 [==============================] - 1s 39us/sample - loss: 0.5079 - val_loss: 0.4919\n",
            "Epoch 7/200\n",
            "27201/27201 [==============================] - 1s 39us/sample - loss: 0.5006 - val_loss: 0.4924\n",
            "Epoch 8/200\n",
            "27201/27201 [==============================] - 1s 39us/sample - loss: 0.4937 - val_loss: 0.4795\n",
            "Epoch 9/200\n",
            "27201/27201 [==============================] - 1s 39us/sample - loss: 0.4890 - val_loss: 0.4784\n",
            "Epoch 10/200\n",
            "27201/27201 [==============================] - 1s 38us/sample - loss: 0.4842 - val_loss: 0.4744\n",
            "Epoch 11/200\n",
            "27201/27201 [==============================] - 1s 40us/sample - loss: 0.4783 - val_loss: 0.4692\n",
            "Epoch 12/200\n",
            "27201/27201 [==============================] - 1s 40us/sample - loss: 0.4799 - val_loss: 0.4676\n",
            "Epoch 13/200\n",
            "27201/27201 [==============================] - 1s 38us/sample - loss: 0.4731 - val_loss: 0.4584\n",
            "Epoch 14/200\n",
            "27201/27201 [==============================] - 1s 40us/sample - loss: 0.4698 - val_loss: 0.4637\n",
            "Epoch 15/200\n",
            "27201/27201 [==============================] - 1s 38us/sample - loss: 0.4684 - val_loss: 0.4668\n",
            "Epoch 16/200\n",
            "27201/27201 [==============================] - 1s 38us/sample - loss: 0.4671 - val_loss: 0.4625\n",
            "Epoch 17/200\n",
            "27201/27201 [==============================] - 1s 39us/sample - loss: 0.4645 - val_loss: 0.4504\n",
            "Epoch 18/200\n",
            "27201/27201 [==============================] - 1s 43us/sample - loss: 0.4625 - val_loss: 0.4532\n",
            "Epoch 19/200\n",
            "27201/27201 [==============================] - 1s 39us/sample - loss: 0.4614 - val_loss: 0.4484\n",
            "Epoch 20/200\n",
            "27201/27201 [==============================] - 1s 39us/sample - loss: 0.4594 - val_loss: 0.4481\n",
            "Epoch 21/200\n",
            "27201/27201 [==============================] - 1s 39us/sample - loss: 0.4568 - val_loss: 0.4418\n",
            "Epoch 22/200\n",
            "27201/27201 [==============================] - 1s 42us/sample - loss: 0.4552 - val_loss: 0.4428\n",
            "Epoch 23/200\n",
            "27201/27201 [==============================] - 1s 39us/sample - loss: 0.4506 - val_loss: 0.4449\n",
            "Epoch 24/200\n",
            "27201/27201 [==============================] - 1s 40us/sample - loss: 0.4497 - val_loss: 0.4468\n",
            "Epoch 25/200\n",
            "27201/27201 [==============================] - 1s 39us/sample - loss: 0.4478 - val_loss: 0.4380\n",
            "Epoch 26/200\n",
            "27201/27201 [==============================] - 1s 39us/sample - loss: 0.4456 - val_loss: 0.4516\n",
            "Epoch 27/200\n",
            "27201/27201 [==============================] - 1s 38us/sample - loss: 0.4431 - val_loss: 0.4366\n",
            "Epoch 28/200\n",
            "27201/27201 [==============================] - 1s 39us/sample - loss: 0.4438 - val_loss: 0.4384\n",
            "Epoch 29/200\n",
            "27201/27201 [==============================] - 1s 38us/sample - loss: 0.4393 - val_loss: 0.4368\n",
            "Epoch 30/200\n",
            "27201/27201 [==============================] - 1s 38us/sample - loss: 0.4386 - val_loss: 0.4335\n",
            "Epoch 31/200\n",
            "27201/27201 [==============================] - 1s 40us/sample - loss: 0.4386 - val_loss: 0.4298\n",
            "Epoch 32/200\n",
            "27201/27201 [==============================] - 1s 39us/sample - loss: 0.4342 - val_loss: 0.4304\n",
            "Epoch 33/200\n",
            "27201/27201 [==============================] - 1s 38us/sample - loss: 0.4345 - val_loss: 0.4258\n",
            "Epoch 34/200\n",
            "27201/27201 [==============================] - 1s 39us/sample - loss: 0.4307 - val_loss: 0.4241\n",
            "Epoch 35/200\n",
            "27201/27201 [==============================] - 1s 39us/sample - loss: 0.4295 - val_loss: 0.4323\n",
            "Epoch 36/200\n",
            "27201/27201 [==============================] - 1s 38us/sample - loss: 0.4291 - val_loss: 0.4262\n",
            "Epoch 37/200\n",
            "27201/27201 [==============================] - 1s 39us/sample - loss: 0.4260 - val_loss: 0.4425\n",
            "Epoch 38/200\n",
            "27201/27201 [==============================] - 1s 39us/sample - loss: 0.4239 - val_loss: 0.4169\n",
            "Epoch 39/200\n",
            "27201/27201 [==============================] - 1s 38us/sample - loss: 0.4208 - val_loss: 0.4224\n",
            "Epoch 40/200\n",
            "27201/27201 [==============================] - 1s 38us/sample - loss: 0.4192 - val_loss: 0.4372\n",
            "Epoch 41/200\n",
            "27201/27201 [==============================] - 1s 39us/sample - loss: 0.4197 - val_loss: 0.4103\n",
            "Epoch 42/200\n",
            "27201/27201 [==============================] - 1s 39us/sample - loss: 0.4134 - val_loss: 0.4083\n",
            "Epoch 43/200\n",
            "27201/27201 [==============================] - 1s 38us/sample - loss: 0.4151 - val_loss: 0.4192\n",
            "Epoch 44/200\n",
            "27201/27201 [==============================] - 1s 39us/sample - loss: 0.4109 - val_loss: 0.4074\n",
            "Epoch 45/200\n",
            "27201/27201 [==============================] - 1s 38us/sample - loss: 0.4084 - val_loss: 0.4082\n",
            "Epoch 46/200\n",
            "27201/27201 [==============================] - 1s 40us/sample - loss: 0.4077 - val_loss: 0.4036\n",
            "Epoch 47/200\n",
            "27201/27201 [==============================] - 1s 41us/sample - loss: 0.4039 - val_loss: 0.4060\n",
            "Epoch 48/200\n",
            "27201/27201 [==============================] - 1s 39us/sample - loss: 0.4031 - val_loss: 0.4055\n",
            "Epoch 49/200\n",
            "27201/27201 [==============================] - 1s 39us/sample - loss: 0.3995 - val_loss: 0.4040\n",
            "Epoch 50/200\n",
            "27201/27201 [==============================] - 1s 38us/sample - loss: 0.3993 - val_loss: 0.4269\n",
            "Epoch 51/200\n",
            "27201/27201 [==============================] - 1s 39us/sample - loss: 0.4082 - val_loss: 0.3971\n",
            "Epoch 52/200\n",
            "27201/27201 [==============================] - 1s 39us/sample - loss: 0.3956 - val_loss: 0.3975\n",
            "Epoch 53/200\n",
            "27201/27201 [==============================] - 1s 39us/sample - loss: 0.3934 - val_loss: 0.4000\n",
            "Epoch 54/200\n",
            "27201/27201 [==============================] - 1s 39us/sample - loss: 0.3904 - val_loss: 0.4004\n",
            "Epoch 55/200\n",
            "27201/27201 [==============================] - 1s 38us/sample - loss: 0.3921 - val_loss: 0.3978\n",
            "Epoch 56/200\n",
            "27201/27201 [==============================] - 1s 39us/sample - loss: 0.3905 - val_loss: 0.4015\n",
            "Epoch 57/200\n",
            "27201/27201 [==============================] - 1s 38us/sample - loss: 0.3884 - val_loss: 0.3910\n",
            "Epoch 58/200\n",
            "27201/27201 [==============================] - 1s 38us/sample - loss: 0.3970 - val_loss: 0.3894\n",
            "Epoch 59/200\n",
            "27201/27201 [==============================] - 1s 39us/sample - loss: 0.3831 - val_loss: 0.3974\n",
            "Epoch 60/200\n",
            "27201/27201 [==============================] - 1s 39us/sample - loss: 0.3871 - val_loss: 0.3910\n",
            "Epoch 61/200\n",
            "27201/27201 [==============================] - 1s 39us/sample - loss: 0.3808 - val_loss: 0.3938\n",
            "Epoch 62/200\n",
            "27201/27201 [==============================] - 1s 39us/sample - loss: 0.3788 - val_loss: 0.4277\n",
            "Epoch 63/200\n",
            "27201/27201 [==============================] - 1s 39us/sample - loss: 0.3965 - val_loss: 0.3890\n",
            "Epoch 64/200\n",
            "27201/27201 [==============================] - 1s 40us/sample - loss: 0.3764 - val_loss: 0.3830\n",
            "Epoch 65/200\n",
            "27201/27201 [==============================] - 1s 38us/sample - loss: 0.3734 - val_loss: 0.4056\n",
            "Epoch 66/200\n",
            "27201/27201 [==============================] - 1s 39us/sample - loss: 0.3757 - val_loss: 0.3813\n",
            "Epoch 67/200\n",
            "27201/27201 [==============================] - 1s 39us/sample - loss: 0.3792 - val_loss: 0.3863\n",
            "Epoch 68/200\n",
            "27201/27201 [==============================] - 1s 38us/sample - loss: 0.3746 - val_loss: 0.3779\n",
            "Epoch 69/200\n",
            "27201/27201 [==============================] - 1s 39us/sample - loss: 0.3687 - val_loss: 0.3821\n",
            "Epoch 70/200\n",
            "27201/27201 [==============================] - 1s 38us/sample - loss: 0.3691 - val_loss: 0.3818\n",
            "Epoch 71/200\n",
            "27201/27201 [==============================] - 1s 38us/sample - loss: 0.3668 - val_loss: 0.3832\n",
            "Epoch 72/200\n",
            "27201/27201 [==============================] - 1s 39us/sample - loss: 0.3664 - val_loss: 0.3821\n",
            "Epoch 73/200\n",
            "27201/27201 [==============================] - 1s 40us/sample - loss: 0.3651 - val_loss: 0.3802\n",
            "Epoch 74/200\n",
            "27201/27201 [==============================] - 1s 43us/sample - loss: 0.3655 - val_loss: 0.3766\n",
            "Epoch 75/200\n",
            "27201/27201 [==============================] - 1s 41us/sample - loss: 0.3647 - val_loss: 0.3742\n",
            "Epoch 76/200\n",
            "27201/27201 [==============================] - 1s 38us/sample - loss: 0.3683 - val_loss: 0.3686\n",
            "Epoch 77/200\n",
            "27201/27201 [==============================] - 1s 38us/sample - loss: 0.3619 - val_loss: 0.3727\n",
            "Epoch 78/200\n",
            "27201/27201 [==============================] - 1s 39us/sample - loss: 0.3595 - val_loss: 0.3798\n",
            "Epoch 79/200\n",
            "27201/27201 [==============================] - 1s 42us/sample - loss: 0.3618 - val_loss: 0.3745\n",
            "Epoch 80/200\n",
            "27201/27201 [==============================] - 1s 40us/sample - loss: 0.3591 - val_loss: 0.3794\n",
            "Epoch 81/200\n",
            "27201/27201 [==============================] - 1s 39us/sample - loss: 0.3577 - val_loss: 0.3728\n",
            "Epoch 82/200\n",
            "27201/27201 [==============================] - 1s 39us/sample - loss: 0.3581 - val_loss: 0.3761\n",
            "Epoch 83/200\n",
            "27201/27201 [==============================] - 1s 39us/sample - loss: 0.3561 - val_loss: 0.3730\n",
            "Epoch 84/200\n",
            "27201/27201 [==============================] - 1s 39us/sample - loss: 0.3545 - val_loss: 0.3704\n",
            "Epoch 85/200\n",
            "27201/27201 [==============================] - 1s 38us/sample - loss: 0.3544 - val_loss: 0.3703\n",
            "Epoch 86/200\n",
            "27201/27201 [==============================] - 1s 39us/sample - loss: 0.3522 - val_loss: 0.3705\n",
            "Epoch 87/200\n",
            "27201/27201 [==============================] - 1s 38us/sample - loss: 0.3522 - val_loss: 0.3865\n",
            "Epoch 88/200\n",
            "27201/27201 [==============================] - 1s 38us/sample - loss: 0.3538 - val_loss: 0.3666\n",
            "Epoch 89/200\n",
            "27201/27201 [==============================] - 1s 39us/sample - loss: 0.3532 - val_loss: 0.3719\n",
            "Epoch 90/200\n",
            "27201/27201 [==============================] - 1s 38us/sample - loss: 0.3485 - val_loss: 0.3673\n",
            "Epoch 91/200\n",
            "27201/27201 [==============================] - 1s 38us/sample - loss: 0.3473 - val_loss: 0.3664\n",
            "Epoch 92/200\n",
            "27201/27201 [==============================] - 1s 38us/sample - loss: 0.3468 - val_loss: 0.3648\n",
            "Epoch 93/200\n",
            "27201/27201 [==============================] - 1s 38us/sample - loss: 0.3451 - val_loss: 0.3646\n",
            "Epoch 94/200\n",
            "27201/27201 [==============================] - 1s 39us/sample - loss: 0.3444 - val_loss: 0.3677\n",
            "Epoch 95/200\n",
            "27201/27201 [==============================] - 1s 38us/sample - loss: 0.3439 - val_loss: 0.4040\n",
            "Epoch 96/200\n",
            "27201/27201 [==============================] - 1s 37us/sample - loss: 0.3545 - val_loss: 0.3725\n",
            "Epoch 97/200\n",
            "27201/27201 [==============================] - 1s 39us/sample - loss: 0.3487 - val_loss: 0.3628\n",
            "Epoch 98/200\n",
            "27201/27201 [==============================] - 1s 38us/sample - loss: 0.3406 - val_loss: 0.3637\n",
            "Epoch 99/200\n",
            "27201/27201 [==============================] - 1s 39us/sample - loss: 0.3409 - val_loss: 0.3660\n",
            "Epoch 100/200\n",
            "27201/27201 [==============================] - 1s 39us/sample - loss: 0.3394 - val_loss: 0.3656\n",
            "Epoch 101/200\n",
            "27201/27201 [==============================] - 1s 38us/sample - loss: 0.3417 - val_loss: 0.3602\n",
            "Epoch 102/200\n",
            "27201/27201 [==============================] - 1s 38us/sample - loss: 0.3383 - val_loss: 0.3604\n",
            "Epoch 103/200\n",
            "27201/27201 [==============================] - 1s 43us/sample - loss: 0.3382 - val_loss: 0.3661\n",
            "Epoch 104/200\n",
            "27201/27201 [==============================] - 1s 39us/sample - loss: 0.3376 - val_loss: 0.3574\n",
            "Epoch 105/200\n",
            "27201/27201 [==============================] - 1s 38us/sample - loss: 0.3369 - val_loss: 0.3594\n",
            "Epoch 106/200\n",
            "27201/27201 [==============================] - 1s 38us/sample - loss: 0.3380 - val_loss: 0.3631\n",
            "Epoch 107/200\n",
            "27201/27201 [==============================] - 1s 37us/sample - loss: 0.3403 - val_loss: 0.3600\n",
            "Epoch 108/200\n",
            "27201/27201 [==============================] - 1s 40us/sample - loss: 0.3353 - val_loss: 0.3578\n",
            "Epoch 109/200\n",
            "27201/27201 [==============================] - 1s 39us/sample - loss: 0.3341 - val_loss: 0.3568\n",
            "Epoch 110/200\n",
            "27201/27201 [==============================] - 1s 38us/sample - loss: 0.3337 - val_loss: 0.3616\n",
            "Epoch 111/200\n",
            "27201/27201 [==============================] - 1s 38us/sample - loss: 0.3329 - val_loss: 0.3651\n",
            "Epoch 112/200\n",
            "27201/27201 [==============================] - 1s 37us/sample - loss: 0.3399 - val_loss: 0.3643\n",
            "Epoch 113/200\n",
            "27201/27201 [==============================] - 1s 38us/sample - loss: 0.3341 - val_loss: 0.3602\n",
            "Epoch 114/200\n",
            "27201/27201 [==============================] - 1s 39us/sample - loss: 0.3314 - val_loss: 0.3560\n",
            "Epoch 115/200\n",
            "27201/27201 [==============================] - 1s 38us/sample - loss: 0.3356 - val_loss: 0.3581\n",
            "Epoch 116/200\n",
            "27201/27201 [==============================] - 1s 38us/sample - loss: 0.3372 - val_loss: 0.3556\n",
            "Epoch 117/200\n",
            "27201/27201 [==============================] - 1s 38us/sample - loss: 0.3308 - val_loss: 0.3609\n",
            "Epoch 118/200\n",
            "27201/27201 [==============================] - 1s 38us/sample - loss: 0.3287 - val_loss: 0.3579\n",
            "Epoch 119/200\n",
            "27201/27201 [==============================] - 1s 37us/sample - loss: 0.3267 - val_loss: 0.3601\n",
            "Epoch 120/200\n",
            "27201/27201 [==============================] - 1s 37us/sample - loss: 0.3335 - val_loss: 0.3533\n",
            "Epoch 121/200\n",
            "27201/27201 [==============================] - 1s 38us/sample - loss: 0.3270 - val_loss: 0.3602\n",
            "Epoch 122/200\n",
            "27201/27201 [==============================] - 1s 37us/sample - loss: 0.3250 - val_loss: 0.3568\n",
            "Epoch 123/200\n",
            "27201/27201 [==============================] - 1s 37us/sample - loss: 0.3255 - val_loss: 0.3606\n",
            "Epoch 124/200\n",
            "27201/27201 [==============================] - 1s 38us/sample - loss: 0.3252 - val_loss: 0.3560\n",
            "Epoch 125/200\n",
            "27201/27201 [==============================] - 1s 37us/sample - loss: 0.3281 - val_loss: 0.3554\n",
            "Epoch 126/200\n",
            "27201/27201 [==============================] - 1s 39us/sample - loss: 0.3245 - val_loss: 0.3559\n",
            "Epoch 127/200\n",
            "27201/27201 [==============================] - 1s 37us/sample - loss: 0.3237 - val_loss: 0.3573\n",
            "Epoch 128/200\n",
            "27201/27201 [==============================] - 1s 37us/sample - loss: 0.3231 - val_loss: 0.3575\n",
            "Epoch 129/200\n",
            "27201/27201 [==============================] - 1s 38us/sample - loss: 0.3225 - val_loss: 0.3502\n",
            "Epoch 130/200\n",
            "27201/27201 [==============================] - 1s 37us/sample - loss: 0.3218 - val_loss: 0.3503\n",
            "Epoch 131/200\n",
            "27201/27201 [==============================] - 1s 39us/sample - loss: 0.3220 - val_loss: 0.3585\n",
            "Epoch 132/200\n",
            "27201/27201 [==============================] - 1s 42us/sample - loss: 0.3205 - val_loss: 0.3491\n",
            "Epoch 133/200\n",
            "27201/27201 [==============================] - 1s 38us/sample - loss: 0.3207 - val_loss: 0.3619\n",
            "Epoch 134/200\n",
            "27201/27201 [==============================] - 1s 38us/sample - loss: 0.3315 - val_loss: 0.3554\n",
            "Epoch 135/200\n",
            "27201/27201 [==============================] - 1s 37us/sample - loss: 0.3195 - val_loss: 0.3491\n",
            "Epoch 136/200\n",
            "27201/27201 [==============================] - 1s 42us/sample - loss: 0.3185 - val_loss: 0.3553\n",
            "Epoch 137/200\n",
            "27201/27201 [==============================] - 1s 38us/sample - loss: 0.3175 - val_loss: 0.3512\n",
            "Epoch 138/200\n",
            "27201/27201 [==============================] - 1s 38us/sample - loss: 0.3183 - val_loss: 0.3600\n",
            "Epoch 139/200\n",
            "27201/27201 [==============================] - 1s 38us/sample - loss: 0.3289 - val_loss: 0.3523\n",
            "Epoch 140/200\n",
            "27201/27201 [==============================] - 1s 38us/sample - loss: 0.3184 - val_loss: 0.3518\n",
            "Epoch 141/200\n",
            "27201/27201 [==============================] - 1s 37us/sample - loss: 0.3145 - val_loss: 0.3527\n",
            "Epoch 142/200\n",
            "27201/27201 [==============================] - 1s 37us/sample - loss: 0.3147 - val_loss: 0.3517\n",
            "Epoch 143/200\n",
            "27201/27201 [==============================] - 1s 38us/sample - loss: 0.3161 - val_loss: 0.3464\n",
            "Epoch 144/200\n",
            "27201/27201 [==============================] - 1s 39us/sample - loss: 0.3240 - val_loss: 0.3541\n",
            "Epoch 145/200\n",
            "27201/27201 [==============================] - 1s 37us/sample - loss: 0.3144 - val_loss: 0.3503\n",
            "Epoch 146/200\n",
            "27201/27201 [==============================] - 1s 37us/sample - loss: 0.3137 - val_loss: 0.3467\n",
            "Epoch 147/200\n",
            "27201/27201 [==============================] - 1s 38us/sample - loss: 0.3137 - val_loss: 0.3552\n",
            "Epoch 148/200\n",
            "27201/27201 [==============================] - 1s 38us/sample - loss: 0.3131 - val_loss: 0.3463\n",
            "Epoch 149/200\n",
            "27201/27201 [==============================] - 1s 38us/sample - loss: 0.3111 - val_loss: 0.3462\n",
            "Epoch 150/200\n",
            "27201/27201 [==============================] - 1s 38us/sample - loss: 0.3128 - val_loss: 0.3517\n",
            "Epoch 151/200\n",
            "27201/27201 [==============================] - 1s 38us/sample - loss: 0.3192 - val_loss: 0.3501\n",
            "Epoch 152/200\n",
            "27201/27201 [==============================] - 1s 38us/sample - loss: 0.3132 - val_loss: 0.3485\n",
            "Epoch 153/200\n",
            "27201/27201 [==============================] - 1s 37us/sample - loss: 0.3113 - val_loss: 0.3446\n",
            "Epoch 154/200\n",
            "27201/27201 [==============================] - 1s 38us/sample - loss: 0.3103 - val_loss: 0.3447\n",
            "Epoch 155/200\n",
            "27201/27201 [==============================] - 1s 38us/sample - loss: 0.3093 - val_loss: 0.3469\n",
            "Epoch 156/200\n",
            "27201/27201 [==============================] - 1s 37us/sample - loss: 0.3103 - val_loss: 0.3558\n",
            "Epoch 157/200\n",
            "27201/27201 [==============================] - 1s 39us/sample - loss: 0.3109 - val_loss: 0.3457\n",
            "Epoch 158/200\n",
            "27201/27201 [==============================] - 1s 38us/sample - loss: 0.3083 - val_loss: 0.3488\n",
            "Epoch 159/200\n",
            "27201/27201 [==============================] - 1s 39us/sample - loss: 0.3084 - val_loss: 0.3418\n",
            "Epoch 160/200\n",
            "27201/27201 [==============================] - 1s 38us/sample - loss: 0.3063 - val_loss: 0.3408\n",
            "Epoch 161/200\n",
            "27201/27201 [==============================] - 1s 42us/sample - loss: 0.3096 - val_loss: 0.3492\n",
            "Epoch 162/200\n",
            "27201/27201 [==============================] - 1s 38us/sample - loss: 0.3064 - val_loss: 0.3442\n",
            "Epoch 163/200\n",
            "27201/27201 [==============================] - 1s 38us/sample - loss: 0.3071 - val_loss: 0.3436\n",
            "Epoch 164/200\n",
            "27201/27201 [==============================] - 1s 38us/sample - loss: 0.3091 - val_loss: 0.3436\n",
            "Epoch 165/200\n",
            "27201/27201 [==============================] - 1s 39us/sample - loss: 0.3076 - val_loss: 0.3475\n",
            "Epoch 166/200\n",
            "27201/27201 [==============================] - 1s 39us/sample - loss: 0.3051 - val_loss: 0.3451\n",
            "Epoch 167/200\n",
            "27201/27201 [==============================] - 1s 39us/sample - loss: 0.3050 - val_loss: 0.3425\n",
            "Epoch 168/200\n",
            "27201/27201 [==============================] - 1s 38us/sample - loss: 0.3043 - val_loss: 0.3477\n",
            "Epoch 169/200\n",
            "27201/27201 [==============================] - 1s 37us/sample - loss: 0.3040 - val_loss: 0.3515\n",
            "Epoch 170/200\n",
            "27201/27201 [==============================] - 1s 37us/sample - loss: 0.3068 - val_loss: 0.3497\n",
            "Epoch 171/200\n",
            "27201/27201 [==============================] - 1s 38us/sample - loss: 0.3019 - val_loss: 0.3549\n",
            "Epoch 172/200\n",
            "27201/27201 [==============================] - 1s 37us/sample - loss: 0.3121 - val_loss: 0.3443\n",
            "Epoch 173/200\n",
            "27201/27201 [==============================] - 1s 38us/sample - loss: 0.3048 - val_loss: 0.3444\n",
            "Epoch 174/200\n",
            "27201/27201 [==============================] - 1s 39us/sample - loss: 0.3056 - val_loss: 0.3430\n",
            "Epoch 175/200\n",
            "27201/27201 [==============================] - 1s 37us/sample - loss: 0.3035 - val_loss: 0.3424\n",
            "Epoch 176/200\n",
            "27201/27201 [==============================] - 1s 37us/sample - loss: 0.3010 - val_loss: 0.3467\n",
            "Epoch 177/200\n",
            "27201/27201 [==============================] - 1s 38us/sample - loss: 0.3024 - val_loss: 0.3439\n",
            "Epoch 178/200\n",
            "27201/27201 [==============================] - 1s 38us/sample - loss: 0.3010 - val_loss: 0.3422\n",
            "Epoch 179/200\n",
            "27201/27201 [==============================] - 1s 38us/sample - loss: 0.3019 - val_loss: 0.3450\n",
            "Epoch 180/200\n",
            "27201/27201 [==============================] - 1s 37us/sample - loss: 0.3066 - val_loss: 0.3425\n",
            "Epoch 181/200\n",
            "27201/27201 [==============================] - 1s 37us/sample - loss: 0.2997 - val_loss: 0.3434\n",
            "Epoch 182/200\n",
            "27201/27201 [==============================] - 1s 38us/sample - loss: 0.3000 - val_loss: 0.3421\n",
            "Epoch 183/200\n",
            "27201/27201 [==============================] - 1s 37us/sample - loss: 0.2988 - val_loss: 0.3425\n",
            "Epoch 184/200\n",
            "27201/27201 [==============================] - 1s 39us/sample - loss: 0.2997 - val_loss: 0.3480\n",
            "Epoch 185/200\n",
            "27201/27201 [==============================] - 1s 38us/sample - loss: 0.3025 - val_loss: 0.3455\n",
            "Epoch 186/200\n",
            "27201/27201 [==============================] - 1s 37us/sample - loss: 0.2993 - val_loss: 0.3438\n",
            "Epoch 187/200\n",
            "27201/27201 [==============================] - 1s 37us/sample - loss: 0.3040 - val_loss: 0.3389\n",
            "Epoch 188/200\n",
            "27201/27201 [==============================] - 1s 36us/sample - loss: 0.2981 - val_loss: 0.3414\n",
            "Epoch 189/200\n",
            "27201/27201 [==============================] - 1s 39us/sample - loss: 0.2959 - val_loss: 0.3402\n",
            "Epoch 190/200\n",
            "27201/27201 [==============================] - 1s 41us/sample - loss: 0.2986 - val_loss: 0.3450\n",
            "Epoch 191/200\n",
            "27201/27201 [==============================] - 1s 37us/sample - loss: 0.2997 - val_loss: 0.3395\n",
            "Epoch 192/200\n",
            "27201/27201 [==============================] - 1s 37us/sample - loss: 0.3019 - val_loss: 0.3400\n",
            "Epoch 193/200\n",
            "27201/27201 [==============================] - 1s 37us/sample - loss: 0.2980 - val_loss: 0.3396\n",
            "Epoch 194/200\n",
            "27201/27201 [==============================] - 1s 43us/sample - loss: 0.2971 - val_loss: 0.3473\n",
            "Epoch 195/200\n",
            "27201/27201 [==============================] - 1s 38us/sample - loss: 0.3045 - val_loss: 0.3478\n",
            "Epoch 196/200\n",
            "27201/27201 [==============================] - 1s 38us/sample - loss: 0.2997 - val_loss: 0.3516\n",
            "Epoch 197/200\n",
            "27201/27201 [==============================] - 1s 37us/sample - loss: 0.2980 - val_loss: 0.3448\n",
            "Epoch 198/200\n",
            "27201/27201 [==============================] - 1s 37us/sample - loss: 0.2932 - val_loss: 0.3429\n",
            "Epoch 199/200\n",
            "27201/27201 [==============================] - 1s 37us/sample - loss: 0.2937 - val_loss: 0.3465\n",
            "Epoch 200/200\n",
            "27201/27201 [==============================] - 1s 37us/sample - loss: 0.2943 - val_loss: 0.3413\n",
            "--- 211.00835418701172 seconds ---\n"
          ],
          "name": "stdout"
        }
      ]
    },
    {
      "cell_type": "code",
      "metadata": {
        "colab_type": "code",
        "id": "sun9_RyLYzMM",
        "outputId": "fb55b74d-851c-444a-ee65-08c4406b9e81",
        "colab": {
          "base_uri": "https://localhost:8080/",
          "height": 334
        }
      },
      "source": [
        "# Plot loss\n",
        "plt.figure(figsize=(12, 5))\n",
        "plt.plot(DNN.history.history['loss'], label='Training', linewidth=2)\n",
        "plt.plot(DNN.history.history['val_loss'], label='Validation', linewidth=2)\n",
        "plt.legend()\n",
        "plt.xlabel('Epoch')\n",
        "plt.ylabel('Loss')\n",
        "plt.grid(True)\n",
        "plt.show()"
      ],
      "execution_count": 16,
      "outputs": [
        {
          "output_type": "display_data",
          "data": {
            "image/png": "[encoded data removed]",
            "text/plain": [
              "<Figure size 864x360 with 1 Axes>"
            ]
          },
          "metadata": {
            "tags": []
          }
        }
      ]
    },
    {
      "cell_type": "code",
      "metadata": {
        "colab_type": "code",
        "id": "IJVCymAmcIB_",
        "outputId": "26ee5456-f951-4cbe-8ac9-d8b952752fc5",
        "colab": {
          "base_uri": "https://localhost:8080/",
          "height": 68
        }
      },
      "source": [
        "# Generalization metric\n",
        "min_loss = np.min([DNN.history.history['loss'][-1], DNN.history.history['val_loss'][-1]])\n",
        "max_loss = np.max([DNN.history.history['loss'][-1], DNN.history.history['val_loss'][-1]])\n",
        "general_loss = (max_loss - min_loss) / max_loss\n",
        "print(f\"Generalization loss: {general_loss:6.4f}%\")\n",
        "print(min_loss)\n",
        "print(max_loss)"
      ],
      "execution_count": 17,
      "outputs": [
        {
          "output_type": "stream",
          "text": [
            "Generalization loss: 0.1376%\n",
            "0.2943497519910145\n",
            "0.34132453370401883\n"
          ],
          "name": "stdout"
        }
      ]
    },
    {
      "cell_type": "code",
      "metadata": {
        "colab_type": "code",
        "id": "jqWaiy_fb0-x",
        "outputId": "5c892d1f-d85b-4c84-f042-71cb38950ed0",
        "colab": {
          "base_uri": "https://localhost:8080/",
          "height": 34
        }
      },
      "source": [
        "# Compute test loss\n",
        "loss_test = DNN.evaluate(x=x_test, y=y_test, verbose=False)\n",
        "print(\"Test loss:\", loss_test)"
      ],
      "execution_count": 18,
      "outputs": [
        {
          "output_type": "stream",
          "text": [
            "Test loss: 0.3477872087287124\n"
          ],
          "name": "stdout"
        }
      ]
    },
    {
      "cell_type": "code",
      "metadata": {
        "colab_type": "code",
        "id": "lQxF7hMCb8Cp",
        "outputId": "2590508c-964e-4211-dd8a-a6307773a101",
        "colab": {
          "base_uri": "https://localhost:8080/",
          "height": 34
        }
      },
      "source": [
        "# Predict on test set\n",
        "y_test_hat = DNN.predict(x=x_test)\n",
        "print(y_test_hat.shape)"
      ],
      "execution_count": 19,
      "outputs": [
        {
          "output_type": "stream",
          "text": [
            "(1591, 2)\n"
          ],
          "name": "stdout"
        }
      ]
    },
    {
      "cell_type": "code",
      "metadata": {
        "colab_type": "code",
        "id": "tfAf4cIqcGyQ",
        "outputId": "f2b88b06-b466-42ac-fe2b-6aeb77553e35",
        "colab": {
          "base_uri": "https://localhost:8080/",
          "height": 295
        }
      },
      "source": [
        "# Plot y_test_hat\n",
        "indx = np.random.permutation(len(y_test))[:500]\n",
        "plt.scatter(y_test[indx, 0], y_test[indx, 1], c='b', label='y')\n",
        "plt.scatter(y_test_hat[indx, 0], y_test_hat[indx, 1], c='r', marker='+', label='y_h')\n",
        "\n",
        "plt.legend()\n",
        "plt.grid(True)\n",
        "plt.xlabel('PM2.5')\n",
        "plt.ylabel('NO2')\n",
        "plt.title('Test set and its predictions')\n",
        "plt.show()"
      ],
      "execution_count": 20,
      "outputs": [
        {
          "output_type": "display_data",
          "data": {
            "image/png": "[encoded data removed]",
            "text/plain": [
              "<Figure size 432x288 with 1 Axes>"
            ]
          },
          "metadata": {
            "tags": []
          }
        }
      ]
    },
    {
      "cell_type": "code",
      "metadata": {
        "colab_type": "code",
        "id": "euURHYHPQ9B3",
        "colab": {}
      },
      "source": [
        ""
      ],
      "execution_count": 0,
      "outputs": []
    }
  ]
}